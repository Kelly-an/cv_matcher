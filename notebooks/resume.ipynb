{
 "cells": [
  {
   "cell_type": "code",
   "execution_count": 36,
   "metadata": {},
   "outputs": [],
   "source": [
    "import pandas as pd\n",
    "from json import loads as json_loads"
   ]
  },
  {
   "cell_type": "code",
   "execution_count": 37,
   "metadata": {},
   "outputs": [],
   "source": [
    "df = pd.DataFrame()"
   ]
  },
  {
   "cell_type": "code",
   "execution_count": 38,
   "metadata": {},
   "outputs": [],
   "source": [
    "path = '../data/chatgpt/2024-12-05/v7/'"
   ]
  },
  {
   "cell_type": "code",
   "execution_count": 39,
   "metadata": {},
   "outputs": [],
   "source": [
    "with open(f\"{path}/title.txt\", \"r\") as file:\n",
    "    lines = file.readlines()\n",
    "\n",
    "# Step 2: Remove the first and last lines (e.g., ```json and ```)\n",
    "cleaned_lines = lines[1:-1]  # Exclude the first and last lines\n",
    "cleaned_json = \"\".join(cleaned_lines)  # Combine the lines into a single string\n",
    "\n",
    "# Step 3: Parse the JSON\n",
    "data = json_loads(cleaned_json)\n",
    "title_df = pd.DataFrame(data)"
   ]
  },
  {
   "cell_type": "code",
   "execution_count": 40,
   "metadata": {},
   "outputs": [],
   "source": [
    "with open(f\"{path}/skills.txt\", \"r\") as file:\n",
    "    lines = file.readlines()\n",
    "\n",
    "# Step 2: Remove the first and last lines (e.g., ```json and ```)\n",
    "cleaned_lines = lines[1:-1]  # Exclude the first and last lines\n",
    "cleaned_json = \"\".join(cleaned_lines)  # Combine the lines into a single string\n",
    "\n",
    "# Step 3: Parse the JSON\n",
    "data = json_loads(cleaned_json)\n",
    "skills_df = pd.DataFrame(data)"
   ]
  },
  {
   "cell_type": "code",
   "execution_count": 41,
   "metadata": {},
   "outputs": [],
   "source": [
    "with open(f\"{path}/experience.txt\", \"r\") as file:\n",
    "    lines = file.readlines()\n",
    "\n",
    "# Step 2: Remove the first and last lines (e.g., ```json and ```)\n",
    "cleaned_lines = lines[1:-1]  # Exclude the first and last lines\n",
    "cleaned_json = \"\".join(cleaned_lines)  # Combine the lines into a single string\n",
    "\n",
    "# Step 3: Parse the JSON\n",
    "data = json_loads(cleaned_json)\n",
    "exp_df = pd.DataFrame(data)"
   ]
  },
  {
   "cell_type": "code",
   "execution_count": 42,
   "metadata": {},
   "outputs": [],
   "source": [
    "with open(f\"{path}/education.txt\", \"r\") as file:\n",
    "    lines = file.readlines()\n",
    "\n",
    "# Step 2: Remove the first and last lines (e.g., ```json and ```)\n",
    "cleaned_lines = lines[1:-1]  # Exclude the first and last lines\n",
    "cleaned_json = \"\".join(cleaned_lines).replace(\"'\", '\"')  # Combine the lines into a single string\n",
    "\n",
    "# Step 3: Parse the JSON\n",
    "data = json_loads(cleaned_json)\n",
    "ed_df = pd.DataFrame(data)"
   ]
  },
  {
   "cell_type": "code",
   "execution_count": 49,
   "metadata": {},
   "outputs": [
    {
     "data": {
      "text/html": [
       "<div>\n",
       "<style scoped>\n",
       "    .dataframe tbody tr th:only-of-type {\n",
       "        vertical-align: middle;\n",
       "    }\n",
       "\n",
       "    .dataframe tbody tr th {\n",
       "        vertical-align: top;\n",
       "    }\n",
       "\n",
       "    .dataframe thead th {\n",
       "        text-align: right;\n",
       "    }\n",
       "</style>\n",
       "<table border=\"1\" class=\"dataframe\">\n",
       "  <thead>\n",
       "    <tr style=\"text-align: right;\">\n",
       "      <th></th>\n",
       "      <th>education</th>\n",
       "      <th>certifications</th>\n",
       "    </tr>\n",
       "  </thead>\n",
       "  <tbody>\n",
       "    <tr>\n",
       "      <th>0</th>\n",
       "      <td>{'degree': 'Data science bootcamp', 'school': ...</td>\n",
       "      <td>{'certification': 'IA and Big Data Solution De...</td>\n",
       "    </tr>\n",
       "    <tr>\n",
       "      <th>1</th>\n",
       "      <td>{'degree': 'Engineer of the University of Tech...</td>\n",
       "      <td>{'certification': 'AWS Big Data Specialty', 'i...</td>\n",
       "    </tr>\n",
       "    <tr>\n",
       "      <th>2</th>\n",
       "      <td>{'degree': 'Erasmus Semester', 'school': 'Lund...</td>\n",
       "      <td>{'certification': 'AWS Cloud Practionner', 'in...</td>\n",
       "    </tr>\n",
       "  </tbody>\n",
       "</table>\n",
       "</div>"
      ],
      "text/plain": [
       "                                           education  \\\n",
       "0  {'degree': 'Data science bootcamp', 'school': ...   \n",
       "1  {'degree': 'Engineer of the University of Tech...   \n",
       "2  {'degree': 'Erasmus Semester', 'school': 'Lund...   \n",
       "\n",
       "                                      certifications  \n",
       "0  {'certification': 'IA and Big Data Solution De...  \n",
       "1  {'certification': 'AWS Big Data Specialty', 'i...  \n",
       "2  {'certification': 'AWS Cloud Practionner', 'in...  "
      ]
     },
     "execution_count": 49,
     "metadata": {},
     "output_type": "execute_result"
    }
   ],
   "source": [
    "ed_df"
   ]
  },
  {
   "cell_type": "code",
   "execution_count": 50,
   "metadata": {},
   "outputs": [
    {
     "data": {
      "text/html": [
       "<div>\n",
       "<style scoped>\n",
       "    .dataframe tbody tr th:only-of-type {\n",
       "        vertical-align: middle;\n",
       "    }\n",
       "\n",
       "    .dataframe tbody tr th {\n",
       "        vertical-align: top;\n",
       "    }\n",
       "\n",
       "    .dataframe thead th {\n",
       "        text-align: right;\n",
       "    }\n",
       "</style>\n",
       "<table border=\"1\" class=\"dataframe\">\n",
       "  <thead>\n",
       "    <tr style=\"text-align: right;\">\n",
       "      <th></th>\n",
       "      <th>skills</th>\n",
       "    </tr>\n",
       "  </thead>\n",
       "  <tbody>\n",
       "    <tr>\n",
       "      <th>0</th>\n",
       "      <td>{'category': 'DATA PIPELINE &amp; ORCHESTRATION', ...</td>\n",
       "    </tr>\n",
       "    <tr>\n",
       "      <th>1</th>\n",
       "      <td>{'category': 'DEVOPS &amp; COLLAB', 'skills': ['Ji...</td>\n",
       "    </tr>\n",
       "    <tr>\n",
       "      <th>2</th>\n",
       "      <td>{'category': 'DATA WAREHOUSING &amp; DATABASES', '...</td>\n",
       "    </tr>\n",
       "    <tr>\n",
       "      <th>3</th>\n",
       "      <td>{'category': 'DATA VIZ &amp; ANALYTICS', 'skills':...</td>\n",
       "    </tr>\n",
       "    <tr>\n",
       "      <th>4</th>\n",
       "      <td>{'category': 'PROGRAMMATION &amp; SCRIPTING', 'ski...</td>\n",
       "    </tr>\n",
       "    <tr>\n",
       "      <th>5</th>\n",
       "      <td>{'category': 'DATA SCIENCE', 'skills': ['MLFlo...</td>\n",
       "    </tr>\n",
       "    <tr>\n",
       "      <th>6</th>\n",
       "      <td>{'category': 'DATA LINEAGE', 'skills': ['Marqu...</td>\n",
       "    </tr>\n",
       "    <tr>\n",
       "      <th>7</th>\n",
       "      <td>{'category': 'DATA QUALITY', 'skills': ['Great...</td>\n",
       "    </tr>\n",
       "  </tbody>\n",
       "</table>\n",
       "</div>"
      ],
      "text/plain": [
       "                                              skills\n",
       "0  {'category': 'DATA PIPELINE & ORCHESTRATION', ...\n",
       "1  {'category': 'DEVOPS & COLLAB', 'skills': ['Ji...\n",
       "2  {'category': 'DATA WAREHOUSING & DATABASES', '...\n",
       "3  {'category': 'DATA VIZ & ANALYTICS', 'skills':...\n",
       "4  {'category': 'PROGRAMMATION & SCRIPTING', 'ski...\n",
       "5  {'category': 'DATA SCIENCE', 'skills': ['MLFlo...\n",
       "6  {'category': 'DATA LINEAGE', 'skills': ['Marqu...\n",
       "7  {'category': 'DATA QUALITY', 'skills': ['Great..."
      ]
     },
     "execution_count": 50,
     "metadata": {},
     "output_type": "execute_result"
    }
   ],
   "source": [
    "skills_df"
   ]
  },
  {
   "cell_type": "code",
   "execution_count": 51,
   "metadata": {},
   "outputs": [
    {
     "data": {
      "text/html": [
       "<div>\n",
       "<style scoped>\n",
       "    .dataframe tbody tr th:only-of-type {\n",
       "        vertical-align: middle;\n",
       "    }\n",
       "\n",
       "    .dataframe tbody tr th {\n",
       "        vertical-align: top;\n",
       "    }\n",
       "\n",
       "    .dataframe thead th {\n",
       "        text-align: right;\n",
       "    }\n",
       "</style>\n",
       "<table border=\"1\" class=\"dataframe\">\n",
       "  <thead>\n",
       "    <tr style=\"text-align: right;\">\n",
       "      <th></th>\n",
       "      <th>experience</th>\n",
       "    </tr>\n",
       "  </thead>\n",
       "  <tbody>\n",
       "    <tr>\n",
       "      <th>0</th>\n",
       "      <td>{'job_title': 'Data engineer for Enterprise En...</td>\n",
       "    </tr>\n",
       "    <tr>\n",
       "      <th>1</th>\n",
       "      <td>{'job_title': 'Data engineer for Integrity tea...</td>\n",
       "    </tr>\n",
       "    <tr>\n",
       "      <th>2</th>\n",
       "      <td>{'job_title': 'Consultant Data engineer', 'com...</td>\n",
       "    </tr>\n",
       "    <tr>\n",
       "      <th>3</th>\n",
       "      <td>{'job_title': 'Consultant Data engineer', 'com...</td>\n",
       "    </tr>\n",
       "    <tr>\n",
       "      <th>4</th>\n",
       "      <td>{'job_title': 'Consultant Data engineer', 'com...</td>\n",
       "    </tr>\n",
       "    <tr>\n",
       "      <th>5</th>\n",
       "      <td>{'job_title': 'Consultant Data engineer', 'com...</td>\n",
       "    </tr>\n",
       "  </tbody>\n",
       "</table>\n",
       "</div>"
      ],
      "text/plain": [
       "                                          experience\n",
       "0  {'job_title': 'Data engineer for Enterprise En...\n",
       "1  {'job_title': 'Data engineer for Integrity tea...\n",
       "2  {'job_title': 'Consultant Data engineer', 'com...\n",
       "3  {'job_title': 'Consultant Data engineer', 'com...\n",
       "4  {'job_title': 'Consultant Data engineer', 'com...\n",
       "5  {'job_title': 'Consultant Data engineer', 'com..."
      ]
     },
     "execution_count": 51,
     "metadata": {},
     "output_type": "execute_result"
    }
   ],
   "source": [
    "exp_df"
   ]
  },
  {
   "cell_type": "code",
   "execution_count": 52,
   "metadata": {},
   "outputs": [
    {
     "data": {
      "text/html": [
       "<div>\n",
       "<style scoped>\n",
       "    .dataframe tbody tr th:only-of-type {\n",
       "        vertical-align: middle;\n",
       "    }\n",
       "\n",
       "    .dataframe tbody tr th {\n",
       "        vertical-align: top;\n",
       "    }\n",
       "\n",
       "    .dataframe thead th {\n",
       "        text-align: right;\n",
       "    }\n",
       "</style>\n",
       "<table border=\"1\" class=\"dataframe\">\n",
       "  <thead>\n",
       "    <tr style=\"text-align: right;\">\n",
       "      <th></th>\n",
       "      <th>job_title</th>\n",
       "      <th>languages</th>\n",
       "    </tr>\n",
       "  </thead>\n",
       "  <tbody>\n",
       "    <tr>\n",
       "      <th>0</th>\n",
       "      <td>Data Engineer</td>\n",
       "      <td>{'language': 'French', 'level': 'C2'}</td>\n",
       "    </tr>\n",
       "    <tr>\n",
       "      <th>1</th>\n",
       "      <td>Data Engineer</td>\n",
       "      <td>{'language': 'English', 'level': 'C2'}</td>\n",
       "    </tr>\n",
       "    <tr>\n",
       "      <th>2</th>\n",
       "      <td>Data Engineer</td>\n",
       "      <td>{'language': 'Spanish', 'level': 'A2'}</td>\n",
       "    </tr>\n",
       "    <tr>\n",
       "      <th>3</th>\n",
       "      <td>Data Engineer</td>\n",
       "      <td>{'language': 'Japanese', 'level': 'A1'}</td>\n",
       "    </tr>\n",
       "  </tbody>\n",
       "</table>\n",
       "</div>"
      ],
      "text/plain": [
       "       job_title                                languages\n",
       "0  Data Engineer    {'language': 'French', 'level': 'C2'}\n",
       "1  Data Engineer   {'language': 'English', 'level': 'C2'}\n",
       "2  Data Engineer   {'language': 'Spanish', 'level': 'A2'}\n",
       "3  Data Engineer  {'language': 'Japanese', 'level': 'A1'}"
      ]
     },
     "execution_count": 52,
     "metadata": {},
     "output_type": "execute_result"
    }
   ],
   "source": [
    "title_df"
   ]
  },
  {
   "cell_type": "code",
   "execution_count": 57,
   "metadata": {},
   "outputs": [],
   "source": [
    "result = (\n",
    "    title_df.groupby(\"job_title\")[\"languages\"]\n",
    "    .apply(list)\n",
    "    .reset_index()\n",
    "    .to_dict(\"records\")\n",
    ")"
   ]
  },
  {
   "cell_type": "code",
   "execution_count": 61,
   "metadata": {},
   "outputs": [
    {
     "data": {
      "text/plain": [
       "{'Data Engineer': [{'language': 'French', 'level': 'C2'},\n",
       "  {'language': 'English', 'level': 'C2'},\n",
       "  {'language': 'Spanish', 'level': 'A2'},\n",
       "  {'language': 'Japanese', 'level': 'A1'}]}"
      ]
     },
     "execution_count": 61,
     "metadata": {},
     "output_type": "execute_result"
    }
   ],
   "source": [
    "title_df.groupby(\"job_title\")[\"languages\"].apply(list).to_dict()"
   ]
  },
  {
   "cell_type": "code",
   "execution_count": 70,
   "metadata": {},
   "outputs": [],
   "source": [
    "result = {\n",
    "    \"id\": 0,  # Assign a unique id\n",
    "    \"job_title\": title_df[\"job_title\"].iloc[0],  # Take the first job title (assumes uniformity)\n",
    "    \"languages\": title_df['languages'].to_list(),\n",
    "    \"experience\": exp_df['experience'].to_list(),\n",
    "    \"skills\": skills_df['skills'].to_list(),\n",
    "    \"education\": ed_df['education'].to_list(),\n",
    "    \"certification\": ed_df['certifications'].to_list()\n",
    "}"
   ]
  },
  {
   "cell_type": "code",
   "execution_count": 71,
   "metadata": {},
   "outputs": [
    {
     "data": {
      "text/plain": [
       "{'id': 0,\n",
       " 'job_title': 'Data Engineer',\n",
       " 'languages': [{'language': 'French', 'level': 'C2'},\n",
       "  {'language': 'English', 'level': 'C2'},\n",
       "  {'language': 'Spanish', 'level': 'A2'},\n",
       "  {'language': 'Japanese', 'level': 'A1'}],\n",
       " 'experience': [{'job_title': 'Data engineer for Enterprise Engineering team',\n",
       "   'company': 'Meta',\n",
       "   'dates': '09/2020-02/2023',\n",
       "   'description': 'Team support, establishing logging specifications, defining and implementing metrics and goals for the material movement team, project from scratch to automate work assignment in datacenters [saved ~4K hours on planning per year], logging specs, dataset, metrics, evaluation methods design and creation.'},\n",
       "  {'job_title': 'Data engineer for Integrity team',\n",
       "   'company': 'Meta',\n",
       "   'dates': '09/2020-02/2023',\n",
       "   'description': 'Team support, reduce inauthentic account and content on Facebook and Instagram, design and implementation of a framework to measure authenticity attributes for Facebook and Instagram user accounts while respecting data privacy requirements, refactoring of page authentication flows [reduction of offendable content by 2.7%], datasets and dashboards creation to visualize user’s path, new identification method for users, dataset and dashboards to enable data scientist to analyze experiment data of the new identification method for users, pipeline optimization leading to compute reduction [More than $120K saved a year].'},\n",
       "  {'job_title': 'Consultant Data engineer',\n",
       "   'company': 'Euler Hermes',\n",
       "   'dates': '08/2018-10/2019',\n",
       "   'description': 'Data lake centralization of all the data of the company in a data lake (API + Kinesis Streams), KPI calculation and exposure via API in python.'},\n",
       "  {'job_title': 'Consultant Data engineer',\n",
       "   'company': 'Canal +',\n",
       "   'dates': '08/2018-10/2019',\n",
       "   'description': 'Anomaly detection on streaming data using a RCF algorithm on users’ logs with AWS Kinesis Analytics.'},\n",
       "  {'job_title': 'Consultant Data engineer',\n",
       "   'company': 'Sodexo',\n",
       "   'dates': '02/2017-08/2018',\n",
       "   'description': 'Data migration into an Azure Datalake (on-premises & Azure SQL DB) with ADF.'},\n",
       "  {'job_title': 'Consultant Data engineer',\n",
       "   'company': 'French National Police Department',\n",
       "   'dates': '02/2017-08/2018',\n",
       "   'description': 'Statistics calculation, data extraction with Spark, backend development in Scala using the AKKA framework and Kafka, backend development for the new application used in the police stations.'}],\n",
       " 'skills': [{'category': 'DATA PIPELINE & ORCHESTRATION',\n",
       "   'skills': ['Git', 'Airflow', 'Dbt', 'Kafka', 'Prefect', 'Spark']},\n",
       "  {'category': 'DEVOPS & COLLAB',\n",
       "   'skills': ['Jira',\n",
       "    'AWS Lambda',\n",
       "    'AWS S3',\n",
       "    'GCP Cloud Function',\n",
       "    'GCP Cloud Storage',\n",
       "    'Docker',\n",
       "    'Terraform']},\n",
       "  {'category': 'DATA WAREHOUSING & DATABASES',\n",
       "   'skills': ['AWS Athena',\n",
       "    'AWS Redshift',\n",
       "    'ClickHouse',\n",
       "    'GCP BigQuery',\n",
       "    'PostgreSQL',\n",
       "    'Snowflake']},\n",
       "  {'category': 'DATA VIZ & ANALYTICS',\n",
       "   'skills': ['Looker', 'Tableau', 'Streamlit', 'Plotly', 'Seaborn']},\n",
       "  {'category': 'PROGRAMMATION & SCRIPTING',\n",
       "   'skills': ['Flask', 'Bash', 'Java', 'JavaScript', 'Python', 'Scala']},\n",
       "  {'category': 'DATA SCIENCE',\n",
       "   'skills': ['MLFlow', 'Numpy', 'Pandas', 'Scikit-learn']},\n",
       "  {'category': 'DATA LINEAGE', 'skills': ['Marquez', 'OpenLineage']},\n",
       "  {'category': 'DATA QUALITY', 'skills': ['Great Expectations']}],\n",
       " 'education': [{'degree': 'Data science bootcamp',\n",
       "   'school': 'Le wagon',\n",
       "   'year': '2024',\n",
       "   'description': '9-week about data analysis, machine learning, deep learning and ML engineering.'},\n",
       "  {'degree': 'Engineer of the University of Technology of Troyes',\n",
       "   'school': 'University of Technology of Troyes',\n",
       "   'year': '2017',\n",
       "   'description': 'Computer science and Information Systems Specialization in Software Project Management'},\n",
       "  {'degree': 'Erasmus Semester',\n",
       "   'school': 'Lund University',\n",
       "   'year': '2015',\n",
       "   'description': 'Computer Science'}],\n",
       " 'certification': [{'certification': 'IA and Big Data Solution Designer',\n",
       "   'institution': 'Le wagon'},\n",
       "  {'certification': 'AWS Big Data Specialty', 'institution': ''},\n",
       "  {'certification': 'AWS Cloud Practionner', 'institution': ''}]}"
      ]
     },
     "execution_count": 71,
     "metadata": {},
     "output_type": "execute_result"
    }
   ],
   "source": [
    "result"
   ]
  },
  {
   "cell_type": "code",
   "execution_count": null,
   "metadata": {},
   "outputs": [],
   "source": []
  }
 ],
 "metadata": {
  "kernelspec": {
   "display_name": "pipeline_exo",
   "language": "python",
   "name": "python3"
  },
  "language_info": {
   "codemirror_mode": {
    "name": "ipython",
    "version": 3
   },
   "file_extension": ".py",
   "mimetype": "text/x-python",
   "name": "python",
   "nbconvert_exporter": "python",
   "pygments_lexer": "ipython3",
   "version": "3.10.6"
  }
 },
 "nbformat": 4,
 "nbformat_minor": 2
}
